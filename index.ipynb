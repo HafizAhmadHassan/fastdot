{
 "cells": [
  {
   "cell_type": "code",
   "execution_count": null,
   "metadata": {},
   "outputs": [],
   "source": [
    "#hide\n",
    "from fastgraph.drawgraph import *"
   ]
  },
  {
   "cell_type": "markdown",
   "metadata": {},
   "source": [
    "# fastgraph\n",
    "\n",
    "> Draw, modify, and execute graphs using a simple python dict interface"
   ]
  },
  {
   "cell_type": "markdown",
   "metadata": {},
   "source": [
    "This is still under early development - not ready for general use."
   ]
  },
  {
   "cell_type": "markdown",
   "metadata": {},
   "source": [
    "## Install"
   ]
  },
  {
   "cell_type": "markdown",
   "metadata": {},
   "source": [
    "`pip install fastgraph`"
   ]
  },
  {
   "cell_type": "markdown",
   "metadata": {},
   "source": [
    "## drawgraph overview"
   ]
  },
  {
   "cell_type": "markdown",
   "metadata": {},
   "source": [
    "`drawgraph` is a simple wrapper over `pydot`, which patches some useful functionality directly into `pydot` classes, as well as adding some new functions.\n",
    "\n",
    "You can create a `pydot` `Cluster` from any list. If items are 2-tuples, then the first item is the label, the second is the tooltip. Otherwise, there will be no tooltips."
   ]
  },
  {
   "cell_type": "code",
   "execution_count": null,
   "metadata": {},
   "outputs": [],
   "source": [
    "lbls = 'conv','norm','act'"
   ]
  },
  {
   "cell_type": "code",
   "execution_count": null,
   "metadata": {},
   "outputs": [],
   "source": [
    "# g = create_graph()\n",
    "# sg1 = create_net_graph(g, 'cl1', lbls)\n",
    "# sg2 = create_net_graph(g, 'cl2', lbls)\n",
    "# # Connect a cluster to a cluster\n",
    "# g.connect_items(sg1, sg2)\n",
    "# # Connect a cluster to a node\n",
    "# g.connect_items(sg1, sg2[-1])\n",
    "# # Connect a node to a node\n",
    "# g.connect_items(sg1[0], sg1[0])\n",
    "# g"
   ]
  },
  {
   "cell_type": "code",
   "execution_count": null,
   "metadata": {},
   "outputs": [],
   "source": []
  }
 ],
 "metadata": {
  "kernelspec": {
   "display_name": "Python 3",
   "language": "python",
   "name": "python3"
  }
 },
 "nbformat": 4,
 "nbformat_minor": 2
}
